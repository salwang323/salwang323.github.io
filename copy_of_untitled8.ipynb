{
  "nbformat": 4,
  "nbformat_minor": 0,
  "metadata": {
    "colab": {
      "provenance": [],
      "authorship_tag": "ABX9TyMBVo1xLc1saIuJKIOHZqnh",
      "include_colab_link": true
    },
    "kernelspec": {
      "name": "python3",
      "display_name": "Python 3"
    },
    "language_info": {
      "name": "python"
    }
  },
  "cells": [
    {
      "cell_type": "markdown",
      "metadata": {
        "id": "view-in-github",
        "colab_type": "text"
      },
      "source": [
        "<a href=\"https://colab.research.google.com/github/salwang323/salwang323.github.io/blob/master/copy_of_untitled8.ipynb\" target=\"_parent\"><img src=\"https://colab.research.google.com/assets/colab-badge.svg\" alt=\"Open In Colab\"/></a>"
      ]
    },
    {
      "cell_type": "code",
      "execution_count": null,
      "metadata": {
        "colab": {
          "base_uri": "https://localhost:8080/",
          "height": 1000
        },
        "id": "VkwZQOeCgqFH",
        "outputId": "a458037f-a753-4a75-98c9-38b26707c2a4"
      },
      "outputs": [
        {
          "output_type": "stream",
          "name": "stdout",
          "text": [
            "Mounted at /content/gdrive/\n"
          ]
        },
        {
          "output_type": "display_data",
          "data": {
            "text/plain": [
              "<Figure size 432x288 with 1 Axes>"
            ],
            "image/png": "[encoded data removed]"
          },
          "metadata": {
            "needs_background": "light"
          }
        },
        {
          "output_type": "display_data",
          "data": {
            "text/plain": [
              "<Figure size 432x288 with 1 Axes>"
            ],
            "image/png": "[encoded data removed]"
          },
          "metadata": {
            "needs_background": "light"
          }
        },
        {
          "output_type": "execute_result",
          "data": {
            "text/plain": [
              "[(array([-0.39395654]), array([-0.76994102])),\n",
              " (array([-0.39395654]), array([-0.76994102])),\n",
              " (array([-0.39395654]), array([-0.76994102])),\n",
              " (array([-0.39395654]), array([-0.76994102])),\n",
              " (array([-0.39395654]), array([-0.76994102])),\n",
              " (array([-0.39395654]), array([-0.76994102])),\n",
              " (array([-0.39395654]), array([-0.76994102])),\n",
              " (array([-0.39395654]), array([-0.76994102])),\n",
              " (array([-0.39395654]), array([-0.76994102])),\n",
              " (array([-0.39395654]), array([-0.76994102])),\n",
              " (array([-0.39395654]), array([-0.76994102])),\n",
              " (array([-0.39395654]), array([-0.76994102])),\n",
              " (array([-0.39395654]), array([-0.76994102])),\n",
              " (array([-0.39395654]), array([-0.76994102])),\n",
              " (array([-0.39395654]), array([-0.76994102])),\n",
              " (array([-0.39395654]), array([-0.76994102])),\n",
              " (array([-0.39395654]), array([-0.76994102])),\n",
              " (array([-0.39395654]), array([-0.76994102])),\n",
              " (array([-0.39395654]), array([-0.76994102])),\n",
              " (array([-0.39395654]), array([-0.76994102])),\n",
              " (array([-0.39395654]), array([-0.76994102])),\n",
              " (array([-0.39395654]), array([-0.76994102])),\n",
              " (array([-0.39395654]), array([-0.76994102])),\n",
              " (array([-0.39395654]), array([-0.76994102])),\n",
              " (array([-0.39395654]), array([-0.76994102])),\n",
              " (array([-0.39395654]), array([-0.76994102])),\n",
              " (array([-0.39395654]), array([-0.76994102])),\n",
              " (array([-0.39395654]), array([-0.76994102])),\n",
              " (array([-0.39395654]), array([-0.76994102])),\n",
              " (array([-0.39395654]), array([-0.76994102])),\n",
              " (array([-0.39395654]), array([-0.76994102])),\n",
              " (array([-0.39395654]), array([-0.76994102])),\n",
              " (array([-0.39395654]), array([-0.76994102])),\n",
              " (array([-0.39395654]), array([-0.76994102])),\n",
              " (array([-0.39395654]), array([-0.76994102])),\n",
              " (array([-0.39395654]), array([-0.76994102])),\n",
              " (array([-0.39395654]), array([-0.76994102])),\n",
              " (array([-0.39395654]), array([-0.76994102])),\n",
              " (array([-0.39395654]), array([-0.76994102])),\n",
              " (array([-0.39395654]), array([-0.76994102])),\n",
              " (array([-0.39395654]), array([-0.76994102])),\n",
              " (array([-0.39395654]), array([-0.76994102])),\n",
              " (array([-0.39395654]), array([-0.76994102])),\n",
              " (array([-0.39395654]), array([-0.76994102])),\n",
              " (array([-0.39395654]), array([-0.76994102])),\n",
              " (array([-0.39395654]), array([-0.76994102])),\n",
              " (array([-0.39395654]), array([-0.76994102])),\n",
              " (array([-0.39395654]), array([-0.76994102])),\n",
              " (array([-0.39395654]), array([-0.76994102])),\n",
              " (array([-0.39395654]), array([-0.76994102])),\n",
              " (array([-0.39395654]), array([-0.76994102])),\n",
              " (array([-0.39395654]), array([-0.76994102])),\n",
              " (array([-0.39395654]), array([-0.76994102])),\n",
              " (array([-0.39395654]), array([-0.76994102])),\n",
              " (array([-0.39395654]), array([-0.76994102])),\n",
              " (array([-0.39395654]), array([-0.76994102])),\n",
              " (array([-0.39395654]), array([-0.76994102])),\n",
              " (array([-0.39395654]), array([-0.76994102])),\n",
              " (array([-0.39395654]), array([-0.76994102])),\n",
              " (array([-0.39395654]), array([-0.76994102])),\n",
              " (array([-0.39395654]), array([-0.76994102])),\n",
              " (array([-0.39395654]), array([-0.76994102])),\n",
              " (array([-0.39395654]), array([-0.76994102])),\n",
              " (array([-0.39395654]), array([-0.76994102])),\n",
              " (array([-0.39395654]), array([-0.76994102]))]"
            ]
          },
          "metadata": {},
          "execution_count": 10
        }
      ],
      "source": [
        "import matplotlib.pyplot as plt\n",
        "import numpy as np\n",
        "import pandas as pd\n",
        "from google.colab import drive\n",
        "\n",
        "drive.mount('/content/gdrive/', force_remount=True)\n",
        "\n",
        "def plot_points(X, y):\n",
        "    admitted = X[np.argwhere(y==1)]\n",
        "    rejected = X[np.argwhere(y==0)]\n",
        "    plt.scatter([s[0][0] for s in rejected], [s[0][1] for s in rejected], s = 25, color = 'blue', edgecolor = 'k')\n",
        "    plt.scatter([s[0][0] for s in admitted], [s[0][1] for s in admitted], s = 25, color = 'red', edgecolor = 'k')\n",
        "\n",
        "def display(m, b, color='g--'):\n",
        "    plt.xlim(-0.05,1.05)\n",
        "    plt.ylim(-0.05,1.05)\n",
        "    x = np.arange(-10, 10, 0.1)\n",
        "    plt.plot(x, m*x+b, color)\n",
        "\n",
        "data = pd.read_csv('/content/gdrive/MyDrive/data.csv', header=None)\n",
        "X = np.array(data[[0,1]])\n",
        "y = np.array(data[2])\n",
        "plot_points(X,y)\n",
        "plt.show()\n",
        "\n",
        "# Setting the random seed, feel free to change it and see different solutions.\n",
        "np.random.seed(42)\n",
        "\n",
        "def stepFunction(t):\n",
        "    if t >= 0:\n",
        "        return 1\n",
        "    return 0\n",
        "\n",
        "def prediction(X, W, b):\n",
        "    return stepFunction((np.matmul(X,W)+b)[0])\n",
        "\n",
        "def perceptronStep(X, y, W, b, learn_rate = 0.01):\n",
        "    for i in range(len(X)):\n",
        "        y_hat = prediction(X[i],W,b)\n",
        "        #\n",
        "        # TODO: Fill in code here\n",
        "        #\n",
        "    return W, b\n",
        "    \n",
        "# This function runs the perceptron algorithm repeatedly on the dataset,\n",
        "# and returns a few of the boundary lines obtained in the iterations,\n",
        "# for plotting purposes.\n",
        "# Feel free to play with the learning rate and the num_epochs,\n",
        "# and see your results plotted below.\n",
        "def trainPerceptronAlgorithm(X, y, learn_rate = 0.1, num_epochs = 65):\n",
        "    x_min, x_max = min(X.T[0]), max(X.T[0])\n",
        "    W = np.array(np.random.rand(2,1))\n",
        "    b = np.random.rand(1)[0] # + x_max\n",
        "    # These are the solution lines that get plotted below.\n",
        "    boundary_lines = []\n",
        "    for i in range(num_epochs):\n",
        "        # In each epoch, we apply the perceptron step.\n",
        "        W, b = perceptronStep(X, y, W, b, learn_rate)\n",
        "        boundary_lines.append((-W[0]/W[1], -b/W[1]))\n",
        "        if i==0:\n",
        "            display(-W[0]/W[1], -b/W[1], 'r--')\n",
        "        else:\n",
        "            display(-W[0]/W[1], -b/W[1])\n",
        "\n",
        "# Plotting the solution boundary\n",
        "    plt.title(\"Solution boundary\")\n",
        "    display(-W[0]/W[1], -b/W[1], 'black')\n",
        "\n",
        "    # Plotting the data\n",
        "    plot_points(X, y)\n",
        "    plt.show()\n",
        "    return boundary_lines\n",
        "    \n",
        "trainPerceptronAlgorithm(X, y)\n",
        "\n",
        "\n"
      ]
    },
    {
      "cell_type": "markdown",
      "source": [],
      "metadata": {
        "id": "0ghMJRKsi6pz"
      }
    }
  ]
}